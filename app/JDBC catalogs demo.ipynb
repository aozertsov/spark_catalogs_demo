{
 "cells": [
  {
   "cell_type": "code",
   "execution_count": 1,
   "id": "810a7b39-cce1-4f2c-b842-3c15fd62aba2",
   "metadata": {},
   "outputs": [
    {
     "name": "stdout",
     "output_type": "stream",
     "text": [
      "SparkSession ready!\n"
     ]
    }
   ],
   "source": [
    "from pyspark.sql import SparkSession\n",
    "\n",
    "spark = SparkSession.builder \\\n",
    "    .appName(\"JDBC_CATALOG\") \\\n",
    "    .master(\"local[*]\") \\\n",
    "    .getOrCreate()\n",
    "\n",
    "print(\"SparkSession ready!\")"
   ]
  },
  {
   "cell_type": "markdown",
   "id": "0daf0f9c-c05a-4ab0-adef-f4452b111d51",
   "metadata": {},
   "source": [
    "### Attention for the first time, spark doesn't anything about new catalog!"
   ]
  },
  {
   "cell_type": "code",
   "execution_count": 2,
   "id": "b0257b34-5dcc-41a1-a138-926a6c67dfab",
   "metadata": {},
   "outputs": [
    {
     "name": "stdout",
     "output_type": "stream",
     "text": [
      "+-------------+\n",
      "|      catalog|\n",
      "+-------------+\n",
      "|spark_catalog|\n",
      "+-------------+\n",
      "\n"
     ]
    }
   ],
   "source": [
    "spark.sql(\"show catalogs\").show()"
   ]
  },
  {
   "cell_type": "code",
   "execution_count": 3,
   "id": "6e10a3a3-14f9-4324-abaa-fc741520ee85",
   "metadata": {},
   "outputs": [
    {
     "name": "stdout",
     "output_type": "stream",
     "text": [
      "+---------+---------+-----------+\n",
      "|namespace|tableName|isTemporary|\n",
      "+---------+---------+-----------+\n",
      "|     habr|   orders|      false|\n",
      "+---------+---------+-----------+\n",
      "\n"
     ]
    }
   ],
   "source": [
    "spark.sql(\"SHOW TABLES IN mysql_catalog.habr\").show()"
   ]
  },
  {
   "cell_type": "markdown",
   "id": "b0dcff5a-fa42-4848-8e69-bb259e012096",
   "metadata": {},
   "source": [
    "### But, after first call, you can see it."
   ]
  },
  {
   "cell_type": "code",
   "execution_count": 4,
   "id": "79358630-c588-4531-93e1-9d1c221ab79b",
   "metadata": {},
   "outputs": [
    {
     "name": "stdout",
     "output_type": "stream",
     "text": [
      "+-------------+\n",
      "|      catalog|\n",
      "+-------------+\n",
      "|mysql_catalog|\n",
      "|spark_catalog|\n",
      "+-------------+\n",
      "\n"
     ]
    }
   ],
   "source": [
    "spark.sql(\"show catalogs\").show()"
   ]
  },
  {
   "cell_type": "code",
   "execution_count": 5,
   "id": "7a328468-3420-43b8-b7b6-92acaed9f0fb",
   "metadata": {},
   "outputs": [
    {
     "name": "stdout",
     "output_type": "stream",
     "text": [
      "+---+------------+-----------+----------+--------+------+-------------------+----------+-------------------+-------------------+\n",
      "| id|    order_id|customer_id|product_id|quantity| price|         order_date|    status|         created_at|         updated_at|\n",
      "+---+------------+-----------+----------+--------+------+-------------------+----------+-------------------+-------------------+\n",
      "|  1|ORD-2024-001|        101|         1|       2|150.00|2024-01-15 10:30:00|delivered |2025-10-20 20:05:20|2025-10-20 20:05:20|\n",
      "|  2|ORD-2024-002|        102|         2|       1| 89.99|2024-01-18 14:20:00|delivered |2025-10-20 20:05:20|2025-10-20 20:05:20|\n",
      "|  3|ORD-2024-003|        103|         1|       3|150.00|2024-01-22 09:15:00|delivered |2025-10-20 20:05:20|2025-10-20 20:05:20|\n",
      "|  4|ORD-2024-004|        104|         3|       1|299.99|2024-01-25 16:45:00|delivered |2025-10-20 20:05:20|2025-10-20 20:05:20|\n",
      "|  5|ORD-2024-005|        105|         2|       2| 89.99|2024-01-28 11:30:00|delivered |2025-10-20 20:05:20|2025-10-20 20:05:20|\n",
      "|  6|ORD-2024-006|        106|         4|       1|199.50|2024-02-03 13:20:00|delivered |2025-10-20 20:05:20|2025-10-20 20:05:20|\n",
      "|  7|ORD-2024-007|        107|         1|       1|150.00|2024-02-07 08:45:00|delivered |2025-10-20 20:05:20|2025-10-20 20:05:20|\n",
      "|  8|ORD-2024-008|        108|         5|       2| 75.00|2024-02-12 15:10:00|delivered |2025-10-20 20:05:20|2025-10-20 20:05:20|\n",
      "|  9|ORD-2024-009|        109|         2|       3| 89.99|2024-02-16 12:30:00|delivered |2025-10-20 20:05:20|2025-10-20 20:05:20|\n",
      "| 10|ORD-2024-010|        110|         6|       1|450.00|2024-02-20 17:25:00|delivered |2025-10-20 20:05:20|2025-10-20 20:05:20|\n",
      "| 11|ORD-2024-011|        111|         3|       2|299.99|2024-03-05 10:15:00|delivered |2025-10-20 20:05:20|2025-10-20 20:05:20|\n",
      "| 12|ORD-2024-012|        112|         7|       1|125.75|2024-03-10 14:40:00|delivered |2025-10-20 20:05:20|2025-10-20 20:05:20|\n",
      "| 13|ORD-2024-013|        113|         1|       4|150.00|2024-03-15 09:30:00|delivered |2025-10-20 20:05:20|2025-10-20 20:05:20|\n",
      "| 14|ORD-2024-014|        114|         8|       1| 89.99|2024-03-18 16:20:00|delivered |2025-10-20 20:05:20|2025-10-20 20:05:20|\n",
      "| 15|ORD-2024-015|        115|         2|       1| 89.99|2024-03-22 11:45:00|delivered |2025-10-20 20:05:20|2025-10-20 20:05:20|\n",
      "| 16|ORD-2024-016|        116|         9|       2|199.50|2024-04-02 13:15:00|processing|2025-10-20 20:05:20|2025-10-20 20:05:20|\n",
      "| 17|ORD-2024-017|        117|         1|       1|150.00|2024-04-05 08:30:00|shipped   |2025-10-20 20:05:20|2025-10-20 20:05:20|\n",
      "| 18|ORD-2024-018|        118|        10|       1|350.00|2024-04-08 15:45:00|pending   |2025-10-20 20:05:20|2025-10-20 20:05:20|\n",
      "| 19|ORD-2024-019|        119|         2|       2| 89.99|2024-04-12 12:20:00|processing|2025-10-20 20:05:20|2025-10-20 20:05:20|\n",
      "| 20|ORD-2024-020|        120|        11|       1|275.00|2024-04-15 10:10:00|pending   |2025-10-20 20:05:20|2025-10-20 20:05:20|\n",
      "+---+------------+-----------+----------+--------+------+-------------------+----------+-------------------+-------------------+\n",
      "\n"
     ]
    }
   ],
   "source": [
    "spark.sql(\"select * from mysql_catalog.habr.orders\").show()"
   ]
  },
  {
   "cell_type": "code",
   "execution_count": 6,
   "id": "a5cb2f3d-b0dd-4fb4-840b-efc56bbddc0c",
   "metadata": {},
   "outputs": [
    {
     "name": "stdout",
     "output_type": "stream",
     "text": [
      "== Physical Plan ==\n",
      "* Project (2)\n",
      "+- * Scan org.apache.spark.sql.execution.datasources.v2.jdbc.JDBCScan$$anon$1@654ee536  (1)\n",
      "\n",
      "\n",
      "(1) Scan org.apache.spark.sql.execution.datasources.v2.jdbc.JDBCScan$$anon$1@654ee536  [codegen id : 1]\n",
      "Output [10]: [id#121, order_id#122, customer_id#123, product_id#124, quantity#125, price#126, order_date#127, status#128, created_at#129, updated_at#130]\n",
      "PushedFilters: [product_id IS NOT NULL, product_id > 1]\n",
      "ReadSchema: struct<id:int,order_id:string,customer_id:int,product_id:int,quantity:int,price:decimal(10,2),order_date:timestamp,status:string,created_at:timestamp,updated_at:timestamp>\n",
      "\n",
      "(2) Project [codegen id : 1]\n",
      "Output [10]: [id#121, order_id#122, customer_id#123, product_id#124, quantity#125, price#126, order_date#127, staticinvoke(class org.apache.spark.sql.catalyst.util.CharVarcharCodegenUtils, StringType, readSidePadding, status#128, 10, true, false, true) AS status#131, created_at#129, updated_at#130]\n",
      "Input [10]: [id#121, order_id#122, customer_id#123, product_id#124, quantity#125, price#126, order_date#127, status#128, created_at#129, updated_at#130]\n",
      "\n",
      "\n"
     ]
    }
   ],
   "source": [
    "orders = spark.read.table(\"mysql_catalog.habr.orders\")\n",
    "orders_filtered = orders.filter(\"product_id > 1\")\n",
    "orders_filtered.explain('formatted')"
   ]
  },
  {
   "cell_type": "code",
   "execution_count": 7,
   "id": "9bd02d95-90ac-4145-88c6-d38f42883978",
   "metadata": {},
   "outputs": [
    {
     "name": "stdout",
     "output_type": "stream",
     "text": [
      "+---+------------+-----------+----------+--------+------+-------------------+----------+-------------------+-------------------+\n",
      "| id|    order_id|customer_id|product_id|quantity| price|         order_date|    status|         created_at|         updated_at|\n",
      "+---+------------+-----------+----------+--------+------+-------------------+----------+-------------------+-------------------+\n",
      "| 10|ORD-2024-010|        110|         6|       1|450.00|2024-02-20 17:25:00|delivered |2025-10-20 20:05:20|2025-10-20 20:05:20|\n",
      "| 11|ORD-2024-011|        111|         3|       2|299.99|2024-03-05 10:15:00|delivered |2025-10-20 20:05:20|2025-10-20 20:05:20|\n",
      "| 12|ORD-2024-012|        112|         7|       1|125.75|2024-03-10 14:40:00|delivered |2025-10-20 20:05:20|2025-10-20 20:05:20|\n",
      "| 13|ORD-2024-013|        113|         1|       4|150.00|2024-03-15 09:30:00|delivered |2025-10-20 20:05:20|2025-10-20 20:05:20|\n",
      "| 14|ORD-2024-014|        114|         8|       1| 89.99|2024-03-18 16:20:00|delivered |2025-10-20 20:05:20|2025-10-20 20:05:20|\n",
      "| 15|ORD-2024-015|        115|         2|       1| 89.99|2024-03-22 11:45:00|delivered |2025-10-20 20:05:20|2025-10-20 20:05:20|\n",
      "| 16|ORD-2024-016|        116|         9|       2|199.50|2024-04-02 13:15:00|processing|2025-10-20 20:05:20|2025-10-20 20:05:20|\n",
      "| 17|ORD-2024-017|        117|         1|       1|150.00|2024-04-05 08:30:00|shipped   |2025-10-20 20:05:20|2025-10-20 20:05:20|\n",
      "| 18|ORD-2024-018|        118|        10|       1|350.00|2024-04-08 15:45:00|pending   |2025-10-20 20:05:20|2025-10-20 20:05:20|\n",
      "| 19|ORD-2024-019|        119|         2|       2| 89.99|2024-04-12 12:20:00|processing|2025-10-20 20:05:20|2025-10-20 20:05:20|\n",
      "| 20|ORD-2024-020|        120|        11|       1|275.00|2024-04-15 10:10:00|pending   |2025-10-20 20:05:20|2025-10-20 20:05:20|\n",
      "+---+------------+-----------+----------+--------+------+-------------------+----------+-------------------+-------------------+\n",
      "\n"
     ]
    }
   ],
   "source": [
    "from pyspark.sql.functions import col\n",
    "\n",
    "orders.filter(col(\"id\") >= 10).show()"
   ]
  }
 ],
 "metadata": {
  "kernelspec": {
   "display_name": "Python 3 (ipykernel)",
   "language": "python",
   "name": "python3"
  },
  "language_info": {
   "codemirror_mode": {
    "name": "ipython",
    "version": 3
   },
   "file_extension": ".py",
   "mimetype": "text/x-python",
   "name": "python",
   "nbconvert_exporter": "python",
   "pygments_lexer": "ipython3",
   "version": "3.11.6"
  }
 },
 "nbformat": 4,
 "nbformat_minor": 5
}
